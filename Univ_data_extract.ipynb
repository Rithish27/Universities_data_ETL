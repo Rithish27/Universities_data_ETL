{
 "cells": [
  {
   "cell_type": "code",
   "execution_count": 2,
   "id": "ce54577d",
   "metadata": {},
   "outputs": [],
   "source": [
    "# importing the required modules\n",
    "import requests\n",
    "import pandas as pd\n",
    "from sqlalchemy import create_engine \n",
    "\n",
    "# requests --> To make http requests.\n",
    "# pandas --> To store and Transform the data in the form of DataFrames\n",
    "# sqlalchemy.connect_engine --> To create a connection and to load data into targeted location."
   ]
  },
  {
   "cell_type": "code",
   "execution_count": 19,
   "id": "48b40300",
   "metadata": {},
   "outputs": [],
   "source": [
    "def extract()-> dict:\n",
    "    \"\"\" This is a extract function to get data from\n",
    "    http://universities.hipolabs.com \"\"\"\n",
    "    \n",
    "    API_URL = \"http://universities.hipolabs.com/search?country=United+States\"\n",
    "    data = requests.get(API_URL).json()\n",
    "    return data"
   ]
  },
  {
   "cell_type": "code",
   "execution_count": 20,
   "id": "6ae988fb",
   "metadata": {},
   "outputs": [],
   "source": [
    "def transform(data:dict)->pd.DataFrame:\n",
    "    \"\"\"\n",
    "    Transforms the data and build a dataset as per required format\n",
    "    \"\"\"\n",
    "    df = pd.DataFrame(data)\n",
    "    print(f\"Total number of universities from API {len(data)}\")\n",
    "    df = df[df['name'].str.contains('Texas')]\n",
    "    print(f\"Number of universities in Texas {len(df)}\")\n",
    "    df['domain'] = [','.join(map(str,l)) for l in df['domains']]\n",
    "    df['web_page'] = [','.join(map(str,l)) for l in df['web_pages']]\n",
    "    df = df.reset_index(drop=True)\n",
    "    return df[['domains','country','web_page','name']]\n"
   ]
  },
  {
   "cell_type": "code",
   "execution_count": 21,
   "id": "936baf2a",
   "metadata": {},
   "outputs": [],
   "source": [
    "def load(df:pd.DataFrame)->None:\n",
    "    \"\"\"\n",
    "    This is the function to load data frame df into the target database \n",
    "    \"\"\"\n",
    "    connection_string = \"postgresql://<username>:<password>@<host_address>/<database>\"\n",
    "    db = create_engine(connection_string)\n",
    "    conn = db.connect()\n",
    "    df.to_sql('texas_uni',con=conn,if_exists='replace',index=False)\n",
    "    print(\"Process_completed\")\n",
    "    "
   ]
  },
  {
   "cell_type": "code",
   "execution_count": 22,
   "id": "612ec58f",
   "metadata": {},
   "outputs": [
    {
     "name": "stdout",
     "output_type": "stream",
     "text": [
      "Total number of universities from API 2300\n",
      "Number of universities in Texas 41\n",
      "Process_completed\n"
     ]
    }
   ],
   "source": [
    "data = extract()\n",
    "df = transform(data)\n",
    "load(df)"
   ]
  },
  {
   "cell_type": "code",
   "execution_count": null,
   "id": "eba4e279",
   "metadata": {},
   "outputs": [],
   "source": []
  }
 ],
 "metadata": {
  "kernelspec": {
   "display_name": "Python 3 (ipykernel)",
   "language": "python",
   "name": "python3"
  },
  "language_info": {
   "codemirror_mode": {
    "name": "ipython",
    "version": 3
   },
   "file_extension": ".py",
   "mimetype": "text/x-python",
   "name": "python",
   "nbconvert_exporter": "python",
   "pygments_lexer": "ipython3",
   "version": "3.9.13"
  }
 },
 "nbformat": 4,
 "nbformat_minor": 5
}
